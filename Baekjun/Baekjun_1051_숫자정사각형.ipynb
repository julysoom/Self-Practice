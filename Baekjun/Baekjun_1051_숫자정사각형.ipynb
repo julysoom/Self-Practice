{
 "cells": [
  {
   "cell_type": "code",
   "execution_count": null,
   "metadata": {},
   "outputs": [],
   "source": [
    "# 백준 1051\n",
    "\n",
    "N, M = map(int, input().split())\n",
    "grid = []\n",
    "for i in range(N):\n",
    "    grid.append(input())\n",
    "\n",
    "# 4개의 꼭지점의 값이 같은지 검사한다.\n",
    "def check(row, col, size):\n",
    "    a = grid[row][col]\n",
    "    b = grid[row][col+size-1]\n",
    "    c = grid[row+size-1][col+size-1]\n",
    "    d = grid[row+size-1][col]\n",
    "    if a == b == c == d:\n",
    "        return size*size\n",
    "    else:\n",
    "        return 0\n",
    "\n",
    "# 검사할 4개의 꼭지점을 탐색한다.\n",
    "def find(N, M):\n",
    "    size = min(N, M)\n",
    "    for k in range(1, size+1)[::-1]:\n",
    "        for i in range(N):\n",
    "            if i + k - 1 == N:\n",
    "                break\n",
    "            for j in range(M):\n",
    "                if j + k - 1 == M:\n",
    "                    break \n",
    "                val = check(i, j, k)\n",
    "                if val:\n",
    "                    return val\n",
    "    # 탐색이 불가능하면 1*1이므로 1을 반환한다.\n",
    "    return 1\n",
    "\n",
    "print(find(N, M))"
   ]
  }
 ],
 "metadata": {
  "kernelspec": {
   "display_name": "Python 3",
   "language": "python",
   "name": "python3"
  },
  "language_info": {
   "codemirror_mode": {
    "name": "ipython",
    "version": 3
   },
   "file_extension": ".py",
   "mimetype": "text/x-python",
   "name": "python",
   "nbconvert_exporter": "python",
   "pygments_lexer": "ipython3",
   "version": "3.6.7"
  },
  "toc": {
   "base_numbering": 1,
   "nav_menu": {},
   "number_sections": true,
   "sideBar": true,
   "skip_h1_title": false,
   "title_cell": "Table of Contents",
   "title_sidebar": "Contents",
   "toc_cell": false,
   "toc_position": {},
   "toc_section_display": true,
   "toc_window_display": false
  },
  "varInspector": {
   "cols": {
    "lenName": 16,
    "lenType": 16,
    "lenVar": 40
   },
   "kernels_config": {
    "python": {
     "delete_cmd_postfix": "",
     "delete_cmd_prefix": "del ",
     "library": "var_list.py",
     "varRefreshCmd": "print(var_dic_list())"
    },
    "r": {
     "delete_cmd_postfix": ") ",
     "delete_cmd_prefix": "rm(",
     "library": "var_list.r",
     "varRefreshCmd": "cat(var_dic_list()) "
    }
   },
   "types_to_exclude": [
    "module",
    "function",
    "builtin_function_or_method",
    "instance",
    "_Feature"
   ],
   "window_display": false
  }
 },
 "nbformat": 4,
 "nbformat_minor": 2
}
