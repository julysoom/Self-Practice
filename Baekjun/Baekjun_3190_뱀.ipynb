{
 "cells": [
  {
   "cell_type": "code",
   "execution_count": null,
   "metadata": {},
   "outputs": [],
   "source": [
    "#input\n",
    "6 #보드 크기 N\n",
    "3 #사과개수 K\n",
    "3 4 #K줄 사과 위치 (행, 열)\n",
    "2 5 #뱀의 방향 변환 횟수 L (L개의 줄)\n",
    "5 3 # X초가 끝난뒤 왼쪽 (L), 오른쪽 D 90도 회전\n",
    "3\n",
    "3 D # X초가 끝난뒤 왼쪽 (L), 오른쪽 D 90도 회전\n",
    "15 L\n",
    "17 D"
   ]
  },
  {
   "cell_type": "code",
   "execution_count": null,
   "metadata": {},
   "outputs": [],
   "source": [
    "#output\n",
    "9 #게임이 몇초에 끝나는지"
   ]
  },
  {
   "cell_type": "code",
   "execution_count": 1,
   "metadata": {},
   "outputs": [],
   "source": [
    "n = 6\n",
    "k = 3"
   ]
  },
  {
   "cell_type": "code",
   "execution_count": 5,
   "metadata": {},
   "outputs": [
    {
     "name": "stdout",
     "output_type": "stream",
     "text": [
      "[[0, 0, 0, 0, 0, 0], [0, 0, 0, 0, 0, 0], [0, 0, 0, 0, 0, 0], [0, 0, 0, 0, 0, 0], [0, 0, 0, 0, 0, 0], [0, 0, 0, 0, 0, 0]]\n",
      "[[0, 0, 0, 0, 0, 0], [0, 0, 0, 0, 0, 0], [0, 0, 0, 2, 0, 0], [0, 0, 0, 0, 0, 0], [0, 0, 0, 0, 0, 0], [0, 0, 0, 0, 0, 0]]\n",
      "[3, 3, 3] ['D', 'D', 'D']\n"
     ]
    }
   ],
   "source": [
    "n = int(6)\n",
    "board = []\n",
    "for i in range(n):\n",
    "    board.append([0]*n)\n",
    "print(board) \n",
    "k = int(k)\n",
    "for i in range(k):\n",
    "    r, c = 3, 4\n",
    "    board[int(r)-1][int(c)-1]=2 # 0 배열에서 사과 위치\n",
    "print(board)\n",
    "\n",
    "l = 3\n",
    "trans_time = []\n",
    "trans_direction = []\n",
    "for i in range(l): # i가 안에 들어가 있지 않아도 while문 같이 3번 반복하는 용도\n",
    "    x, ch = [3, \"D\"]\n",
    "    trans_time.append(int(x))\n",
    "    trans_direction.append(ch)\n",
    "print(trans_time, trans_direction)"
   ]
  },
  {
   "cell_type": "code",
   "execution_count": null,
   "metadata": {},
   "outputs": [],
   "source": [
    "(x, y) ="
   ]
  },
  {
   "cell_type": "code",
   "execution_count": null,
   "metadata": {},
   "outputs": [],
   "source": [
    "def read_data():\n",
    "    n = int(input()) # 보드 크기\n",
    "    board = []\n",
    "    for i in range(n):\n",
    "        board.append([0] * n) # 0이 n만큼 반복되서 나옴 -> [0]*2 -> 00\n",
    "        # 6*6 매트릭스 생성\n",
    "\n",
    "    # k개의 사과만큼 board에 입력한다. 사과는 2로 표시\n",
    "    k = int(input())\n",
    "    for i in range(k):\n",
    "        r, c = input().split() #row,column\n",
    "        board[int(r) - 1][int(c) - 1] = 2 #첫번째 1,1 에는 사과 없음\n",
    "        # 0 배열에서 사과 위치\n",
    "\n",
    "    l = int(input())\n",
    "    trans_time = []\n",
    "    trans_direction = []\n",
    "    for i in range(l):\n",
    "        x, ch = input().split()\n",
    "        trans_time.append(int(x))\n",
    "        trans_direction.append(ch)\n",
    "\n",
    "    return board, trans_time, trans_direction\n",
    "\n",
    "\n",
    "def move(board, snake, count=0):\n",
    "    (x, y) = snake\n",
    "    if count == 0:\n",
    "        return (x, y+1)\n",
    "    elif count == 1:\n",
    "        return (x+1, y)\n",
    "    elif count == 2:\n",
    "           return (x, y-1)\n",
    "    elif count == 3:\n",
    "        return (x-1, y)\n",
    "\n",
    "\n",
    "def movable(board, point):\n",
    "    (x, y) = point\n",
    "    if (x >= 0 and y>= 0) and (x < len(board) and y < len(board)):\n",
    "        if board[x][y] == 1:\n",
    "            return False\n",
    "        return True\n",
    "    else:\n",
    "        return False\n",
    "\n",
    "def isapple(board, point):\n",
    "    (x, y) = point\n",
    "    if board[x][y] == 2:\n",
    "        return True\n",
    "    else:\n",
    "        return False\n",
    "\n",
    "def game(board, start_point, time, direction):\n",
    "    # 초기 설정\n",
    "    t = 0\n",
    "    index = 0\n",
    "    count = 0\n",
    "\n",
    "    (x, y) = start_point\n",
    "    board[x][y] = 1\n",
    "    queue = [start_point]\n",
    "    head = start_point\n",
    "\n",
    "    while True:\n",
    "        if index < len(time) and t == time[index]:\n",
    "            if direction[index] == 'L':\n",
    "                count = (count + 3) % 4\n",
    "            else:\n",
    "                count = (count +1) % 4\n",
    "            index += 1\n",
    "\n",
    "        if index > 0:\n",
    "            head = move(board, head, count)\n",
    "        else:\n",
    "            head = move(board, head)\n",
    "\n",
    "        if movable(board, head):\n",
    "            if not isapple(board, head):\n",
    "                tail = queue.pop(0)\n",
    "                (x, y) = tail\n",
    "                board[x][y] = 0\n",
    "            (x, y) = head\n",
    "            board[x][y] = 1\n",
    "            queue.append(head)\n",
    "        else:\n",
    "            return t + 1\n",
    "        t += 1\n",
    "\n",
    "    return t\n",
    "\n",
    "\n",
    "def solution():\n",
    "    board, time, direction = read_data()\n",
    "    start = (0, 0)\n",
    "    total_time = game(board, start, time, direction)\n",
    "    print(total_time)\n",
    "\n",
    "solution()"
   ]
  }
 ],
 "metadata": {
  "kernelspec": {
   "display_name": "Python 3",
   "language": "python",
   "name": "python3"
  },
  "language_info": {
   "codemirror_mode": {
    "name": "ipython",
    "version": 3
   },
   "file_extension": ".py",
   "mimetype": "text/x-python",
   "name": "python",
   "nbconvert_exporter": "python",
   "pygments_lexer": "ipython3",
   "version": "3.6.7"
  },
  "toc": {
   "base_numbering": 1,
   "nav_menu": {},
   "number_sections": true,
   "sideBar": true,
   "skip_h1_title": false,
   "title_cell": "Table of Contents",
   "title_sidebar": "Contents",
   "toc_cell": false,
   "toc_position": {},
   "toc_section_display": true,
   "toc_window_display": false
  },
  "varInspector": {
   "cols": {
    "lenName": 16,
    "lenType": 16,
    "lenVar": 40
   },
   "kernels_config": {
    "python": {
     "delete_cmd_postfix": "",
     "delete_cmd_prefix": "del ",
     "library": "var_list.py",
     "varRefreshCmd": "print(var_dic_list())"
    },
    "r": {
     "delete_cmd_postfix": ") ",
     "delete_cmd_prefix": "rm(",
     "library": "var_list.r",
     "varRefreshCmd": "cat(var_dic_list()) "
    }
   },
   "types_to_exclude": [
    "module",
    "function",
    "builtin_function_or_method",
    "instance",
    "_Feature"
   ],
   "window_display": false
  }
 },
 "nbformat": 4,
 "nbformat_minor": 2
}
