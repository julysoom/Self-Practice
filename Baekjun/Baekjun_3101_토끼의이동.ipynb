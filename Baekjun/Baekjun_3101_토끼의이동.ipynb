{
 "cells": [
  {
   "cell_type": "code",
   "execution_count": null,
   "metadata": {},
   "outputs": [],
   "source": [
    "n, k = map(int, input().split()) #n= 행렬의 크기, k= 토끼 점프 횟수\n",
    "jump = tuple(input())\n",
    "\n",
    "# 해당 수의 위치를 Top, Middle, Bottom으로 구분한다.\n",
    "# 그리고 각 위치에 따라 상하좌우로 이동할 자표값을 표현한다.\n",
    "T = {'R': (1, 1), 'D': (1, 0), 'L': (-1, -1), 'U': (-1, 0)}\n",
    "M = {'R': (1, 0), 'U': (-1, 0), 'L': (-1, -1), 'D': (1, -1)}\n",
    "B = {'U': (-1, 1), 'L': (-1, 0), 'D': (1, -1), 'R': (1, 0)}\n",
    "x, y = 0, 0\n",
    "ans = 1\n",
    "for j in jump:\n",
    "    # x의 위치에 따라 T, M, B를 결정한다.\n",
    "    if x < n-1:\n",
    "        dx, dy = T[j]\n",
    "    elif x == n-1:\n",
    "        dx, dy = M[j]\n",
    "    else:\n",
    "        dx, dy = B[j]\n",
    "\n",
    "    # 그리고 현재 위치를 기준으로 이동된 x, y를 구한다.\n",
    "    x, y = x + dx, y + dy\n",
    "    if x <= n - 1:\n",
    "        x_ = x*(x+1) // 2 + 1\n",
    "        if x % 2:\n",
    "            ans += x_ + x - y\n",
    "        else:\n",
    "            ans += x_ + y\n",
    "    else:\n",
    "        x_ = n*n - (2*n - x - 1)*(2*n - x) // 2 + 1\n",
    "        if x % 2:\n",
    "            ans += x_ + 2*n-x-1-y-1\n",
    "        else:\n",
    "            ans += x_ + y\n",
    "print(ans)"
   ]
  }
 ],
 "metadata": {
  "kernelspec": {
   "display_name": "Python 3",
   "language": "python",
   "name": "python3"
  },
  "language_info": {
   "codemirror_mode": {
    "name": "ipython",
    "version": 3
   },
   "file_extension": ".py",
   "mimetype": "text/x-python",
   "name": "python",
   "nbconvert_exporter": "python",
   "pygments_lexer": "ipython3",
   "version": "3.6.7"
  },
  "toc": {
   "base_numbering": 1,
   "nav_menu": {},
   "number_sections": true,
   "sideBar": true,
   "skip_h1_title": false,
   "title_cell": "Table of Contents",
   "title_sidebar": "Contents",
   "toc_cell": false,
   "toc_position": {},
   "toc_section_display": true,
   "toc_window_display": false
  },
  "varInspector": {
   "cols": {
    "lenName": 16,
    "lenType": 16,
    "lenVar": 40
   },
   "kernels_config": {
    "python": {
     "delete_cmd_postfix": "",
     "delete_cmd_prefix": "del ",
     "library": "var_list.py",
     "varRefreshCmd": "print(var_dic_list())"
    },
    "r": {
     "delete_cmd_postfix": ") ",
     "delete_cmd_prefix": "rm(",
     "library": "var_list.r",
     "varRefreshCmd": "cat(var_dic_list()) "
    }
   },
   "types_to_exclude": [
    "module",
    "function",
    "builtin_function_or_method",
    "instance",
    "_Feature"
   ],
   "window_display": false
  }
 },
 "nbformat": 4,
 "nbformat_minor": 2
}
