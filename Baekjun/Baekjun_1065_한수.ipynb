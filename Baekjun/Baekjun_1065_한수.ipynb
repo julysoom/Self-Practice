{
 "cells": [
  {
   "cell_type": "markdown",
   "metadata": {},
   "source": [
    "어떤 양의 정수 X의 자리수가 등차수열을 이룬다면, 그 수를 한수라고 한다. \n",
    "등차수열은 연속된 두 개의 수의 차이가 일정한 수열을 말한다. N이 주어졌을 때,\n",
    "1보다 크거나 같고, N보다 작거나 같은 한수의 \"개수\"를 출력하는 프로그램을 작성하시오. \n",
    "input 110 output 99 \n",
    "1000보다 작거나 같은 기준\n",
    "\n",
    "한수에 대한 추가적인 설명:\n",
    "147의 경우 공차 (3),  321 공차(1)\n",
    "찾아보니 문제에서 110을 넣었을 때 한수의 개수가 99개로 출력 -> 100에서 110 사이에는 한수없음 (한수 시작 111)\n",
    "-> 한자리수 및 두자리수는 무조건 한수로 침 (연속 등차수열로 비교할 수 없음)"
   ]
  },
  {
   "cell_type": "markdown",
   "metadata": {},
   "source": [
    "n=150\n",
    "111, 123, 135, 147\n",
    "얘네 출력하는게 목표"
   ]
  },
  {
   "cell_type": "markdown",
   "metadata": {},
   "source": [
    "내가 하고 싶은 거:\n",
    "ex) 321 이라는 숫자가 있음\n",
    "1) str 해서 각 자리수별로 숫자 분석해서\n",
    "2) 3-2가 2-1 이랑 같으면 return 하고 그렇지 않으면 스킵하기\n",
    "for문으로 len(digits)해서 위치값 잡고 두개 비교해서 나온 값이 같은지 확인하게 짜야하는데 이걸 for문으로 어떻게 구현 ^_ㅠ..\n",
    "n=1000\n"
   ]
  },
  {
   "cell_type": "code",
   "execution_count": null,
   "metadata": {},
   "outputs": [],
   "source": [
    "#note\n",
    "순차적인 문제를 풀때는 **//10 으로 하는게 낫고, 하나씩 떼서 비교해야하는 문제는 digit으로 보는게 나음\n",
    "/ (나눗셈) 같은 경우에는 연산속도가 기니 사용하지 말것"
   ]
  },
  {
   "cell_type": "code",
   "execution_count": 7,
   "metadata": {},
   "outputs": [
    {
     "data": {
      "text/plain": [
       "['3', '2', '1']"
      ]
     },
     "execution_count": 7,
     "metadata": {},
     "output_type": "execute_result"
    }
   ],
   "source": [
    "a=[]\n",
    "n=321\n",
    "digits=str(n)\n",
    "digits[0]\n",
    "a.append(digits[0])\n",
    "a.append(digits[1])\n",
    "a.append(digits[2])\n",
    "a"
   ]
  },
  {
   "cell_type": "code",
   "execution_count": null,
   "metadata": {},
   "outputs": [],
   "source": [
    "321 같은 경우에도 3+1/2"
   ]
  },
  {
   "cell_type": "code",
   "execution_count": 222,
   "metadata": {},
   "outputs": [],
   "source": [
    "def count_hansu(n):\n",
    "    count=0\n",
    "    for i in range(1, n+1):\n",
    "        digits=str(i)\n",
    "        if len(digits)<=2:\n",
    "            count+=1\n",
    "        else:\n",
    "            a=int(digits[0])+int(digits[2])\n",
    "            if a == int(digits[1])*2:\n",
    "                count+=1\n",
    "    return count"
   ]
  },
  {
   "cell_type": "code",
   "execution_count": 223,
   "metadata": {},
   "outputs": [
    {
     "data": {
      "text/plain": [
       "99"
      ]
     },
     "execution_count": 223,
     "metadata": {},
     "output_type": "execute_result"
    }
   ],
   "source": [
    "count_hansu(110)"
   ]
  },
  {
   "cell_type": "code",
   "execution_count": 183,
   "metadata": {},
   "outputs": [],
   "source": [
    "#+여기다가 개수 카운트하는거 넣어야함\n",
    "def check_hansu(n):\n",
    "    answer=[]  \n",
    "    digits=str(n)\n",
    "    string=[]\n",
    "    a=int(string[0])+int(string[2])\n",
    "    if len(digits)<=2:\n",
    "        answer.append(n)d\n",
    "    if a/2 == int(string[int(((len(string)-1)/2))]):\n",
    "        answer.append(n)\n",
    "    answer=set(answer)\n",
    "    return list(answer)"
   ]
  },
  {
   "cell_type": "code",
   "execution_count": 184,
   "metadata": {},
   "outputs": [
    {
     "data": {
      "text/plain": [
       "[22]"
      ]
     },
     "execution_count": 184,
     "metadata": {},
     "output_type": "execute_result"
    }
   ],
   "source": [
    "check_hansu(22)"
   ]
  },
  {
   "cell_type": "code",
   "execution_count": 207,
   "metadata": {},
   "outputs": [],
   "source": [
    "def count_hansu(n):\n",
    "    count=0\n",
    "    for i in range(1, n+1):\n",
    "        if check_hansu(i)!=[]:\n",
    "            count+=1\n",
    "    return count"
   ]
  },
  {
   "cell_type": "code",
   "execution_count": 208,
   "metadata": {},
   "outputs": [
    {
     "data": {
      "text/plain": [
       "99"
      ]
     },
     "execution_count": 208,
     "metadata": {},
     "output_type": "execute_result"
    }
   ],
   "source": [
    "count_hansu(110)"
   ]
  }
 ],
 "metadata": {
  "kernelspec": {
   "display_name": "Python 3",
   "language": "python",
   "name": "python3"
  },
  "language_info": {
   "codemirror_mode": {
    "name": "ipython",
    "version": 3
   },
   "file_extension": ".py",
   "mimetype": "text/x-python",
   "name": "python",
   "nbconvert_exporter": "python",
   "pygments_lexer": "ipython3",
   "version": "3.6.7"
  },
  "toc": {
   "base_numbering": 1,
   "nav_menu": {},
   "number_sections": true,
   "sideBar": true,
   "skip_h1_title": false,
   "title_cell": "Table of Contents",
   "title_sidebar": "Contents",
   "toc_cell": false,
   "toc_position": {},
   "toc_section_display": true,
   "toc_window_display": false
  },
  "varInspector": {
   "cols": {
    "lenName": 16,
    "lenType": 16,
    "lenVar": 40
   },
   "kernels_config": {
    "python": {
     "delete_cmd_postfix": "",
     "delete_cmd_prefix": "del ",
     "library": "var_list.py",
     "varRefreshCmd": "print(var_dic_list())"
    },
    "r": {
     "delete_cmd_postfix": ") ",
     "delete_cmd_prefix": "rm(",
     "library": "var_list.r",
     "varRefreshCmd": "cat(var_dic_list()) "
    }
   },
   "types_to_exclude": [
    "module",
    "function",
    "builtin_function_or_method",
    "instance",
    "_Feature"
   ],
   "window_display": false
  }
 },
 "nbformat": 4,
 "nbformat_minor": 2
}
