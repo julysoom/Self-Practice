{
 "cells": [
  {
   "cell_type": "code",
   "execution_count": null,
   "metadata": {},
   "outputs": [],
   "source": [
    "개미가 일렬로 이동할 때, 가장 앞의 개미를 제외한 나머지 개미는 모두 앞에 개미가 한 마리씩 있다. \n",
    "\n",
    "서로 반대 방향으로 이동하던 두 개미 그룹이 좁은 길에서 만났을 때, 개미는 어떻게 지나갈까?\n",
    "\n",
    "최근 연구에 의하면 위와 같은 상황이 벌어지면 개미는 서로를 점프해서 넘어간다고 한다.\n",
    "\n",
    "즉, 두 그룹이 만났을 때, 1초에 한번씩 개미는 서로를 뛰어 넘는다. (한 개미가 다른 개미를 뛰어 넘고, 다른 개미는 그냥 전진한다고 생각해도 된다)\n",
    "\n",
    "하지만 모든 개미가 점프를 하는 것은 아니다. 자신의 앞에 반대 방향으로 움직이던 개미가 있는 경우에만 점프를 하게 된다.\n",
    "\n",
    "첫 번째 그룹이 ABC로 움직이고, 두 번째 그룹의 개미가 DEF순으로 움직인다고 하자. 그럼, 좁은 길에서 만났을 때, 개미의 순서는 CBADEF가 된다. 1초가 지났을 때는 자신의 앞에 반대방향으로 움직이는 개미가 있는 개미는 A와 D다. 따라서, 개미의 순서는 CBDAEF가 된다. 2초가 되었을 때, 자신의 앞에 반대 방향으로 움직이는 개미는 B,D,A,E가 있다. 따라서, 개미의 순서는 CDBEAF가 된다.\n",
    "\n",
    "T초가 지난 후에 개미의 순서를 구하는 프로그램을 작성하시오."
   ]
  },
  {
   "cell_type": "code",
   "execution_count": null,
   "metadata": {},
   "outputs": [],
   "source": [
    "첫 번째 줄에 첫 번째 그룹의 개미의 수 N1과 두 번째 그룹의 개미의 수 N2가 주어진다.\n",
    "\n",
    "다음 두 개 줄에는 첫 번째 그룹과 두 번째 그룹의 개미의 순서가 주어진다. 각 개미는 알파벳 대문자로 표현할 수 있으며, 두 그룹에서 중복되는 알파벳은 없다.\n",
    "\n",
    "마지막 줄에는 T가 주어진다. (0 ≤ T ≤ 50)"
   ]
  },
  {
   "cell_type": "code",
   "execution_count": null,
   "metadata": {},
   "outputs": [],
   "source": [
    "[input]\n",
    "3 3\n",
    "ABC\n",
    "DEF\n",
    "2\n",
    "[output]\n",
    "CDBEAF"
   ]
  },
  {
   "cell_type": "code",
   "execution_count": null,
   "metadata": {},
   "outputs": [],
   "source": [
    "cbadef\n",
    "cbdaef\n",
    "cdbeaf\n",
    "dcbefa\n",
    "dcebfa\n",
    "decfba\n",
    "defcba"
   ]
  },
  {
   "cell_type": "code",
   "execution_count": 1,
   "metadata": {},
   "outputs": [],
   "source": [
    "l = [\"A\", \"B\", \"C\"]\n",
    "r = [\"D\", \"E\", \"F\"]"
   ]
  },
  {
   "cell_type": "code",
   "execution_count": 4,
   "metadata": {},
   "outputs": [
    {
     "name": "stdout",
     "output_type": "stream",
     "text": [
      "['C', 'B', 'A']\n",
      "['C', 'B', 'A', 'D', 'E', 'F']\n"
     ]
    }
   ],
   "source": [
    "left = l[::-1]\n",
    "print(left)\n",
    "right = r\n",
    "t = 2\n",
    "path = list(left+right)\n",
    "print(path)"
   ]
  },
  {
   "cell_type": "code",
   "execution_count": 14,
   "metadata": {},
   "outputs": [
    {
     "data": {
      "text/plain": [
       "False"
      ]
     },
     "execution_count": 14,
     "metadata": {},
     "output_type": "execute_result"
    }
   ],
   "source": []
  },
  {
   "cell_type": "code",
   "execution_count": 15,
   "metadata": {},
   "outputs": [
    {
     "name": "stdout",
     "output_type": "stream",
     "text": [
      "A\n",
      "D\n",
      "A\n",
      "['C', 'B', 'D', 'A', 'E', 'F']\n"
     ]
    }
   ],
   "source": [
    "i=2\n",
    "if path[i] in left and path[i+1] in right:\n",
    "    tmp = path[i]\n",
    "    print(tmp)\n",
    "    path[i] = path[i+1]\n",
    "    print(path[i])\n",
    "    path[i+1] = tmp\n",
    "    print(path[i+1])\n",
    "    print(path)"
   ]
  },
  {
   "cell_type": "code",
   "execution_count": 16,
   "metadata": {},
   "outputs": [
    {
     "data": {
      "text/plain": [
       "'CBDAEF'"
      ]
     },
     "execution_count": 16,
     "metadata": {},
     "output_type": "execute_result"
    }
   ],
   "source": [
    "''.join(path) # 합쳐서 출력"
   ]
  },
  {
   "cell_type": "code",
   "execution_count": null,
   "metadata": {},
   "outputs": [],
   "source": [
    "# answer\n",
    "l, r = map(int, input().split())\n",
    "\n",
    "# 리스트를 역순으로 뒤집음\n",
    "left = input()[::-1]\n",
    "right = input()\n",
    "t = int(input())\n",
    "\n",
    "# 두개의 리스트를 합쳐 하나의 리스트를 새로 생성\n",
    "path = list(left + right)\n",
    "\n",
    "while t: # Non-zero values are True. Zero is false.\n",
    "    # 한번의 반복이 돌 때 배열의 0번부터 시작\n",
    "    i = 0\n",
    "    # 배열의 끝에 도달하지 않았으면 안의 과정을 실항\n",
    "    while(i < len(path)-1):\n",
    "\n",
    "        # i번째 인덱스는 왼쪽 배열에 해당하고, i+1번째 인덱스는 오른쪽 배열에 해당한다면\n",
    "        # 개미가 자리를 바꾸어 주어야하므로 교환\n",
    "        if path[i] in left and path[i+1] in right:\n",
    "            tmp = path[i]\n",
    "            path[i] = path[i+1]\n",
    "            path[i+1] = tmp\n",
    "            i += 2\n",
    "        else:\n",
    "            i += 1\n",
    "    t -= 1\n",
    "\n",
    "print(''.join(path))"
   ]
  }
 ],
 "metadata": {
  "kernelspec": {
   "display_name": "Python 3",
   "language": "python",
   "name": "python3"
  },
  "language_info": {
   "codemirror_mode": {
    "name": "ipython",
    "version": 3
   },
   "file_extension": ".py",
   "mimetype": "text/x-python",
   "name": "python",
   "nbconvert_exporter": "python",
   "pygments_lexer": "ipython3",
   "version": "3.6.7"
  },
  "toc": {
   "base_numbering": 1,
   "nav_menu": {},
   "number_sections": true,
   "sideBar": true,
   "skip_h1_title": false,
   "title_cell": "Table of Contents",
   "title_sidebar": "Contents",
   "toc_cell": false,
   "toc_position": {},
   "toc_section_display": true,
   "toc_window_display": false
  },
  "varInspector": {
   "cols": {
    "lenName": 16,
    "lenType": 16,
    "lenVar": 40
   },
   "kernels_config": {
    "python": {
     "delete_cmd_postfix": "",
     "delete_cmd_prefix": "del ",
     "library": "var_list.py",
     "varRefreshCmd": "print(var_dic_list())"
    },
    "r": {
     "delete_cmd_postfix": ") ",
     "delete_cmd_prefix": "rm(",
     "library": "var_list.r",
     "varRefreshCmd": "cat(var_dic_list()) "
    }
   },
   "types_to_exclude": [
    "module",
    "function",
    "builtin_function_or_method",
    "instance",
    "_Feature"
   ],
   "window_display": false
  }
 },
 "nbformat": 4,
 "nbformat_minor": 2
}
