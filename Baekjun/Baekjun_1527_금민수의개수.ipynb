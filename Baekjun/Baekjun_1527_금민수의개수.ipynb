{
 "cells": [
  {
   "cell_type": "code",
   "execution_count": null,
   "metadata": {},
   "outputs": [],
   "source": [
    "# 백준 1527\n",
    "#해당 수가 금만수인지 검사한다. 금만수라면 x를 반환하고, 그렇지 않으면 반환하지 않는다.\n",
    "def luck(n):\n",
    "    u = 0\n",
    "    i = 1\n",
    "    while n > 0:\n",
    "        r = (n & 1) ^ 1\n",
    "        u += i * (4 + (r<<1) + r)\n",
    "        n >>= 1\n",
    "        n -= r\n",
    "        i *= 10\n",
    "    return u\n",
    "\n",
    "a, b = map(int, input().split())\n",
    "\n",
    "# x는 금만수이면 값을 반환, c는 금만수의 개수, i는 1부터 시작#하여 모든 숫자를 순회한다.\n",
    "x = c = 0\n",
    "i = 1\n",
    "while x < b:\n",
    "    x = luck(i)\n",
    "    i += 1\n",
    "    # 금만수이면 c를 하나 올려준다.\n",
    "    if a <= x <= b:\n",
    "        c += 1\n",
    "\n",
    "print(c)"
   ]
  }
 ],
 "metadata": {
  "kernelspec": {
   "display_name": "Python 3",
   "language": "python",
   "name": "python3"
  },
  "language_info": {
   "codemirror_mode": {
    "name": "ipython",
    "version": 3
   },
   "file_extension": ".py",
   "mimetype": "text/x-python",
   "name": "python",
   "nbconvert_exporter": "python",
   "pygments_lexer": "ipython3",
   "version": "3.6.7"
  },
  "toc": {
   "base_numbering": 1,
   "nav_menu": {},
   "number_sections": true,
   "sideBar": true,
   "skip_h1_title": false,
   "title_cell": "Table of Contents",
   "title_sidebar": "Contents",
   "toc_cell": false,
   "toc_position": {},
   "toc_section_display": true,
   "toc_window_display": false
  },
  "varInspector": {
   "cols": {
    "lenName": 16,
    "lenType": 16,
    "lenVar": 40
   },
   "kernels_config": {
    "python": {
     "delete_cmd_postfix": "",
     "delete_cmd_prefix": "del ",
     "library": "var_list.py",
     "varRefreshCmd": "print(var_dic_list())"
    },
    "r": {
     "delete_cmd_postfix": ") ",
     "delete_cmd_prefix": "rm(",
     "library": "var_list.r",
     "varRefreshCmd": "cat(var_dic_list()) "
    }
   },
   "types_to_exclude": [
    "module",
    "function",
    "builtin_function_or_method",
    "instance",
    "_Feature"
   ],
   "window_display": false
  }
 },
 "nbformat": 4,
 "nbformat_minor": 2
}
